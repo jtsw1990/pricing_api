{
 "cells": [
  {
   "cell_type": "code",
   "execution_count": 1,
   "metadata": {},
   "outputs": [],
   "source": [
    "import os\n",
    "import json"
   ]
  },
  {
   "cell_type": "code",
   "execution_count": 28,
   "metadata": {},
   "outputs": [],
   "source": [
    "with open(\"../data/test.json\") as f:\n",
    "    call = json.load(f)"
   ]
  },
  {
   "cell_type": "code",
   "execution_count": 29,
   "metadata": {},
   "outputs": [
    {
     "data": {
      "text/plain": [
       "{'Policy': {'Policy.policy_number': 'TEST_POLICY',\n",
       "  'Policy.brand_code': 'TEST_BRAND',\n",
       "  'Policy.transaction_date': '13/02/2021',\n",
       "  'Coverable': [{'Coverable.destination_region': 'ASIA',\n",
       "    'Coverable.travel_start_date': '15/02/2021',\n",
       "    'Coverable.travel_end_date': '20/02/2021',\n",
       "    'Coverage': [{'Coverage.coverage_type_code': 'PRE_TRIP_COVER',\n",
       "      'Coverage.coverage_sum_insured': '5000'},\n",
       "     {'Coverage.coverage_type_code': 'MEDICAL',\n",
       "      'Coverage.coverage_sum_insured': '20000'}],\n",
       "    'Traveller': [{'Traveller.date_of_birth': '12/31/1990',\n",
       "      'Traveller.dependent_flag': 'N',\n",
       "      'Traveller.gender_code': 'MALE'}]}]}}"
      ]
     },
     "execution_count": 29,
     "metadata": {},
     "output_type": "execute_result"
    }
   ],
   "source": [
    "call"
   ]
  },
  {
   "cell_type": "code",
   "execution_count": 2,
   "metadata": {},
   "outputs": [],
   "source": [
    "with open(\"travel_contract.json\") as f:\n",
    "    schema = json.load(f)"
   ]
  },
  {
   "cell_type": "code",
   "execution_count": 30,
   "metadata": {},
   "outputs": [
    {
     "data": {
      "text/plain": [
       "{'request': {'Policy': {'Policy.policy_number': 'string',\n",
       "   'Policy.brand_code': 'string',\n",
       "   'Policy.transaction_date': 'date',\n",
       "   'Coverable': {'Coverable.destination_region': 'string',\n",
       "    'Coverable.travel_start_date': 'date',\n",
       "    'Coverable.travel_end_date': 'date',\n",
       "    'Coverage': {'Coverage.coverage_type_code': 'string',\n",
       "     'Coverage.coverage_sum_insured': 'real',\n",
       "     'Traveller': {'Traveller.date_of_birth': 'date',\n",
       "      'Traveller.dependent_flag': 'string',\n",
       "      'Traveller.gender_code': 'string'}}}}},\n",
       " 'response': {'Policy.final_premium': 'real'}}"
      ]
     },
     "execution_count": 30,
     "metadata": {},
     "output_type": "execute_result"
    }
   ],
   "source": [
    "schema"
   ]
  },
  {
   "cell_type": "code",
   "execution_count": 4,
   "metadata": {},
   "outputs": [],
   "source": [
    "request = schema[\"request\"]"
   ]
  },
  {
   "cell_type": "code",
   "execution_count": 11,
   "metadata": {},
   "outputs": [
    {
     "data": {
      "text/plain": [
       "['Policy.policy_number', 'Policy.brand_code', 'Policy.transaction_date']"
      ]
     },
     "execution_count": 11,
     "metadata": {},
     "output_type": "execute_result"
    }
   ],
   "source": [
    "[x  for x in request[\"Policy\"] if x != \"Coverable\"]"
   ]
  },
  {
   "cell_type": "code",
   "execution_count": 12,
   "metadata": {},
   "outputs": [
    {
     "data": {
      "text/plain": [
       "dict_values(['string', 'string', 'date', {'Coverable.destination_region': 'string', 'Coverable.travel_start_date': 'date', 'Coverable.travel_end_date': 'date', 'Coverage': {'Coverage.coverage_type_code': 'string', 'Coverage.coverage_sum_insured': 'real', 'Traveller': {'Traveller.date_of_birth': 'date', 'Traveller.dependent_flag': 'string', 'Traveller.gender_code': 'string'}}}])"
      ]
     },
     "execution_count": 12,
     "metadata": {},
     "output_type": "execute_result"
    }
   ],
   "source": [
    "request[\"Policy\"].values()"
   ]
  },
  {
   "cell_type": "code",
   "execution_count": 13,
   "metadata": {},
   "outputs": [],
   "source": [
    "test = \"31/12/1990\""
   ]
  },
  {
   "cell_type": "code",
   "execution_count": 14,
   "metadata": {},
   "outputs": [],
   "source": [
    "import datetime"
   ]
  },
  {
   "cell_type": "code",
   "execution_count": 23,
   "metadata": {},
   "outputs": [
    {
     "data": {
      "text/plain": [
       "datetime.date(1990, 12, 31)"
      ]
     },
     "execution_count": 23,
     "metadata": {},
     "output_type": "execute_result"
    }
   ],
   "source": [
    "datetime.datetime.strptime(test, \"%d/%m/%Y\").date()"
   ]
  },
  {
   "cell_type": "code",
   "execution_count": 24,
   "metadata": {},
   "outputs": [],
   "source": [
    "def str_to_date(str_input):\n",
    "    return datetime.datetime.strptime(str_input, \"%d/%m/%Y\").date()"
   ]
  },
  {
   "cell_type": "code",
   "execution_count": 25,
   "metadata": {},
   "outputs": [],
   "source": [
    "def str_to_real(str_input):\n",
    "    return float(str_input)"
   ]
  },
  {
   "cell_type": "code",
   "execution_count": 47,
   "metadata": {},
   "outputs": [
    {
     "data": {
      "text/plain": [
       "{'Policy.policy_number': 'TEST_POLICY',\n",
       " 'Policy.brand_code': 'TEST_BRAND',\n",
       " 'Policy.transaction_date': '13/02/2021',\n",
       " 'Coverable': [{'Coverable.destination_region': 'ASIA',\n",
       "   'Coverable.travel_start_date': '15/02/2021',\n",
       "   'Coverable.travel_end_date': '20/02/2021',\n",
       "   'Coverage': [{'Coverage.coverage_type_code': 'PRE_TRIP_COVER',\n",
       "     'Coverage.coverage_sum_insured': '5000'},\n",
       "    {'Coverage.coverage_type_code': 'MEDICAL',\n",
       "     'Coverage.coverage_sum_insured': '20000'}],\n",
       "   'Traveller': [{'Traveller.date_of_birth': '12/31/1990',\n",
       "     'Traveller.dependent_flag': 'N',\n",
       "     'Traveller.gender_code': 'MALE'}]}]}"
      ]
     },
     "execution_count": 47,
     "metadata": {},
     "output_type": "execute_result"
    }
   ],
   "source": [
    "{key:value for (key, value) in call[\"Policy\"].items()}"
   ]
  },
  {
   "cell_type": "code",
   "execution_count": 39,
   "metadata": {},
   "outputs": [
    {
     "data": {
      "text/plain": [
       "{'Policy': {'Policy.policy_number': 'TEST_POLICY',\n",
       "  'Policy.brand_code': 'TEST_BRAND',\n",
       "  'Policy.transaction_date': '13/02/2021',\n",
       "  'Coverable': [{'Coverable.destination_region': 'ASIA',\n",
       "    'Coverable.travel_start_date': '15/02/2021',\n",
       "    'Coverable.travel_end_date': '20/02/2021',\n",
       "    'Coverage': [{'Coverage.coverage_type_code': 'PRE_TRIP_COVER',\n",
       "      'Coverage.coverage_sum_insured': '5000'},\n",
       "     {'Coverage.coverage_type_code': 'MEDICAL',\n",
       "      'Coverage.coverage_sum_insured': '20000'}],\n",
       "    'Traveller': [{'Traveller.date_of_birth': '12/31/1990',\n",
       "      'Traveller.dependent_flag': 'N',\n",
       "      'Traveller.gender_code': 'MALE'}]}]}}"
      ]
     },
     "execution_count": 39,
     "metadata": {},
     "output_type": "execute_result"
    }
   ],
   "source": [
    "call"
   ]
  },
  {
   "cell_type": "code",
   "execution_count": null,
   "metadata": {},
   "outputs": [],
   "source": []
  }
 ],
 "metadata": {
  "kernelspec": {
   "display_name": "Python 3",
   "language": "python",
   "name": "python3"
  },
  "language_info": {
   "codemirror_mode": {
    "name": "ipython",
    "version": 3
   },
   "file_extension": ".py",
   "mimetype": "text/x-python",
   "name": "python",
   "nbconvert_exporter": "python",
   "pygments_lexer": "ipython3",
   "version": "3.8.5"
  }
 },
 "nbformat": 4,
 "nbformat_minor": 4
}
