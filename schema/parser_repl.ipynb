{
 "cells": [
  {
   "cell_type": "code",
   "execution_count": 62,
   "metadata": {},
   "outputs": [],
   "source": [
    "import os\n",
    "import json"
   ]
  },
  {
   "cell_type": "code",
   "execution_count": 63,
   "metadata": {},
   "outputs": [],
   "source": [
    "with open(\"../data/sample_travel_pricing_call.json\") as f:\n",
    "    call = json.load(f)"
   ]
  },
  {
   "cell_type": "code",
   "execution_count": 64,
   "metadata": {},
   "outputs": [
    {
     "data": {
      "text/plain": [
       "{'Policy.policy_number': 'TEST_POLICY',\n",
       " 'Policy.brand_code': 'TEST_BRAND',\n",
       " 'Policy.transaction_date': '12/02/2021',\n",
       " 'Coverable.destination_region': 'ASIA',\n",
       " 'Coverable.travel_start_date': '15/02/2021',\n",
       " 'Coverable.travel_end_date': '20/02/2021',\n",
       " 'Coverable.ski_flag': 'N',\n",
       " 'Coverable.pre_existing_medical_flag': 'N',\n",
       " 'Traveller.date_of_birth': '31/12/1990',\n",
       " 'Traveller.dependent_flag': 'N',\n",
       " 'Traveller.gender_code': 'FEMALE'}"
      ]
     },
     "execution_count": 64,
     "metadata": {},
     "output_type": "execute_result"
    }
   ],
   "source": [
    "call"
   ]
  },
  {
   "cell_type": "code",
   "execution_count": 65,
   "metadata": {},
   "outputs": [],
   "source": [
    "with open(\"travel_contract.json\") as f:\n",
    "    schema = json.load(f)"
   ]
  }
 ],
 "metadata": {
  "kernelspec": {
   "display_name": "Python 3",
   "language": "python",
   "name": "python3"
  },
  "language_info": {
   "codemirror_mode": {
    "name": "ipython",
    "version": 3
   },
   "file_extension": ".py",
   "mimetype": "text/x-python",
   "name": "python",
   "nbconvert_exporter": "python",
   "pygments_lexer": "ipython3",
   "version": "3.8.5"
  }
 },
 "nbformat": 4,
 "nbformat_minor": 4
}
