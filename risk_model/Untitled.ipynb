{
 "cells": [
  {
   "cell_type": "code",
   "execution_count": 1,
   "metadata": {},
   "outputs": [],
   "source": [
    "import pandas as pd\n",
    "from sklearn.model_selection import train_test_split\n",
    "from sklearn.compose import ColumnTransformer\n",
    "from sklearn.preprocessing import OneHotEncoder\n",
    "from sklearn.linear_model import LinearRegression\n",
    "import numpy\n",
    "import pickle\n",
    "\n",
    "\n",
    "\n",
    "class TechnicalRiskModel:\n",
    "    \n",
    "    def __init__(self):\n",
    "        pass\n",
    "    \n",
    "    def data_reader(self, path):\n",
    "        self._path = path\n",
    "        return pd.read_csv(self._path)\n",
    "\n",
    "    def data_preprocessor(self, df, rating_factors):\n",
    "        self._rating_factors_col = rating_factors\n",
    "        self._claims_col = df.columns[-1]\n",
    "        self._num_features = list(df[self._rating_factors_col].select_dtypes(include=[\"int64\", \"float64\"]).columns)\n",
    "        self._cat_features = [col for col in self._rating_factors_col if col not in self._num_features]\n",
    "        self._preprocessor = ColumnTransformer(\n",
    "                transformers = [\n",
    "                    (\"numerical\", \"passthrough\", self._num_features),\n",
    "                    (\"categorical\", OneHotEncoder(sparse=False, handle_unknown=\"ignore\"), self._cat_features)\n",
    "                    ]\n",
    "                )\n",
    "        X, y = df[self._rating_factors_col], df[self._claims_col]\n",
    "        \n",
    "        ohe_categories = self._preprocessor.fit(X).named_transformers_[\"categorical\"].categories_\n",
    "        ohe_categories_concat = [f\"{col}_{val}\" for col, vals in zip(self._cat_features, ohe_categories) for val in vals]\n",
    "        self._rating_factors_encoded = self._num_features + ohe_categories_concat\n",
    "        self._preprocessor.fit(X)\n",
    "        X = self._preprocessor.transform(X)\n",
    "        return X, y, self._rating_factors_encoded\n",
    "\n",
    "\n",
    "    def train_tech_model(self, X, y):\n",
    "        X_train, X_test, y_train, y_test = train_test_split(\n",
    "            X,\n",
    "            y,\n",
    "            test_size=0.2,\n",
    "            random_state=123\n",
    "        )\n",
    "        self.model = LinearRegression().fit(X_train, y_train)\n",
    "        # TODO: add some output logs and statistics\n",
    "        # TODO: add timestamps and string formatting in output\n",
    "        filename = \"latest_model.sav\"\n",
    "        pickle.dump(self.model, open(filename, \"wb\"))\n",
    "\n",
    "    def score_tech_model(self, pricing_call, pricing_rule):\n",
    "        loaded_model = pickle.load(open(pricing_rule, \"rb\"))\n",
    "        pricing_call_parsed = self.data_preprocessor(pd.DataFrame(pricing_call, index=[0]), [\"destination_region\", \"ski_flag\", \"gender_code\", \"date_of_birth\"])[0]\n",
    "   \n",
    "        return loaded_model.predict(pricing_call_parsed)"
   ]
  },
  {
   "cell_type": "code",
   "execution_count": 2,
   "metadata": {},
   "outputs": [],
   "source": [
    "import os\n",
    "import json\n",
    "\n",
    "src = TechnicalRiskModel()\n",
    "df = src.data_reader(r\"C:\\Users\\jtsw1\\Desktop\\projects\\pricing_api\\data\\pif_data.csv\")\n",
    "X, y, col_names = src.data_preprocessor(df, [\"destination_region\", \"ski_flag\", \"gender_code\", \"date_of_birth\"])\n",
    "src.train_tech_model(X, y)\n",
    "with open(r\"C:\\Users\\jtsw1\\Desktop\\projects\\pricing_api\\data\\sample_travel_pricing_call.json\") as f:\n",
    "    call = json.load(f)    \n",
    "  "
   ]
  },
  {
   "cell_type": "code",
   "execution_count": 3,
   "metadata": {},
   "outputs": [],
   "source": [
    "  \n",
    "mapping_table = pd.read_csv(r\"C:\\Users\\jtsw1\\Desktop\\projects\\pricing_api\\mapping_tables\\travel_mapping.csv\")\n",
    "mapping_dict = dict(zip(mapping_table[\"global_variable\"], mapping_table[\"data_column\"]))\n",
    "call_mapped = {mapping_dict[key]: value for (key, value) in call.items()}\n"
   ]
  },
  {
   "cell_type": "code",
   "execution_count": 10,
   "metadata": {},
   "outputs": [
    {
     "data": {
      "text/plain": [
       "(array([[34.,  1.,  1.,  1.]]),\n",
       " 0    FEMALE\n",
       " Name: gender_code, dtype: object,\n",
       " ['date_of_birth',\n",
       "  'destination_region_ASIA',\n",
       "  'ski_flag_N',\n",
       "  'gender_code_FEMALE'])"
      ]
     },
     "execution_count": 10,
     "metadata": {},
     "output_type": "execute_result"
    }
   ],
   "source": [
    "src.data_preprocessor(\n",
    "    pd.DataFrame(call_mapped, index=[0]), \n",
    "    [\"destination_region\", \"ski_flag\", \"gender_code\", \"date_of_birth\"]\n",
    ")"
   ]
  },
  {
   "cell_type": "code",
   "execution_count": null,
   "metadata": {},
   "outputs": [],
   "source": []
  }
 ],
 "metadata": {
  "kernelspec": {
   "display_name": "Python 3",
   "language": "python",
   "name": "python3"
  },
  "language_info": {
   "codemirror_mode": {
    "name": "ipython",
    "version": 3
   },
   "file_extension": ".py",
   "mimetype": "text/x-python",
   "name": "python",
   "nbconvert_exporter": "python",
   "pygments_lexer": "ipython3",
   "version": "3.7.9"
  }
 },
 "nbformat": 4,
 "nbformat_minor": 4
}
